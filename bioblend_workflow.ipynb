{
 "cells": [
  {
   "cell_type": "markdown",
   "id": "a26d5ae3-65cc-487f-a79f-ebd70e029062",
   "metadata": {},
   "source": [
    "# Warming stripes with Galaxy and Bioblend"
   ]
  },
  {
   "cell_type": "code",
   "execution_count": 23,
   "id": "a25f42fb-4a7c-41d1-8d4e-42dc4a8451f6",
   "metadata": {},
   "outputs": [],
   "source": [
    "import os\n",
    "import time\n",
    "from urllib.parse import urljoin\n",
    "import os\n",
    "from collections import defaultdict\n",
    "\n",
    "import bioblend.galaxy\n",
    "import tempfile\n",
    "import pooch\n",
    "import json"
   ]
  },
  {
   "cell_type": "code",
   "execution_count": 28,
   "id": "7f5d8c23-3f0e-4933-8dcd-c976f22c597f",
   "metadata": {},
   "outputs": [],
   "source": [
    "def upload_to_history(inputs, gi, hist_hid):\n",
    "    ret_uploads = []\n",
    "    for input_filename in inputs:\n",
    "        ret = gi.tools.upload_file(input_filename, hist_id)\n",
    "        ret_uploads.append(ret)\n",
    "    return ret_uploads"
   ]
  },
  {
   "cell_type": "markdown",
   "id": "bbf565a1-1fb8-4eea-9e6d-790c14a2df38",
   "metadata": {},
   "source": [
    "## Input parameters"
   ]
  },
  {
   "cell_type": "code",
   "execution_count": 29,
   "id": "4eea5fc8-28cc-44c5-b1dd-be9ce5d55081",
   "metadata": {},
   "outputs": [],
   "source": [
    "server = \"https://usegalaxy.eu/\"\n",
    "api_key = os.environ.get(\"GALAXY_API_KEY\")\n",
    "workflow_parameters_filename = \"workflow_input_params.json\""
   ]
  },
  {
   "cell_type": "markdown",
   "id": "5439538b-d628-4bed-8708-0b03f5feb0fc",
   "metadata": {},
   "source": [
    "## Read Workflow parameters from workflow_invocation.json"
   ]
  },
  {
   "cell_type": "code",
   "execution_count": 38,
   "id": "90aa1d83-3d4e-43ad-b941-9d55d191912e",
   "metadata": {},
   "outputs": [
    {
     "name": "stdout",
     "output_type": "stream",
     "text": [
      "{'inputs': ['downloaded_workflows/datasets/ts_cities.csv_31e7840b5aedca433fb349714141a239.tabular'], 'workflow': 'downloaded_workflows/workflows/f1ada1d68e850ab0.ga', 'params': [{'title': 'My ScienceLive Stripes', 'variable': 'tg_anomalies_freiburg', 'adv|colormap': 'RdBu_r'}]}\n"
     ]
    }
   ],
   "source": [
    "with open(workflow_parameters_filename, 'r', encoding='utf-8') as file:\n",
    "            workflow_parameters = json.load(file)\n",
    "print(workflow_parameters)"
   ]
  },
  {
   "cell_type": "markdown",
   "id": "dc0ef507-4ae2-4880-81aa-d2dd1e03358e",
   "metadata": {},
   "source": [
    "## Connect to a Galaxy instance (here Galaxy Europe)"
   ]
  },
  {
   "cell_type": "code",
   "execution_count": 31,
   "id": "4a9d0102-d554-48c0-b4a7-0b97f8874099",
   "metadata": {},
   "outputs": [
    {
     "name": "stdout",
     "output_type": "stream",
     "text": [
      "API Key loaded: Yes\n"
     ]
    }
   ],
   "source": [
    "# Optional: Check if API key was found\n",
    "if not api_key:\n",
    "    raise ValueError(\"GALAXY_API_KEY environment variable not set\")\n",
    "\n",
    "print(f\"API Key loaded: {'Yes' if api_key else 'No'}\")\n",
    "\n",
    "gi = bioblend.galaxy.GalaxyInstance(url=server, key=api_key)"
   ]
  },
  {
   "cell_type": "markdown",
   "id": "823f811f-bb1c-4d77-b2d4-b7f503477945",
   "metadata": {},
   "source": [
    "## Create a new history"
   ]
  },
  {
   "cell_type": "code",
   "execution_count": 32,
   "id": "79052421-fd68-4733-bd59-04bfaae57213",
   "metadata": {
    "scrolled": true
   },
   "outputs": [
    {
     "name": "stdout",
     "output_type": "stream",
     "text": [
      "{'model_class': 'History', 'id': '7616c018d9d3c3f2', 'name': 'ScienceLive', 'deleted': False, 'purged': False, 'archived': False, 'url': '/api/histories/7616c018d9d3c3f2', 'published': False, 'count': 0, 'annotation': None, 'tags': [], 'update_time': '2025-05-25T19:50:11.500464', 'preferred_object_store_id': None, 'contents_url': '/api/histories/7616c018d9d3c3f2/contents', 'size': 0, 'user_id': '8a9aff0c11cb3a70', 'create_time': '2025-05-25T19:50:11.515047', 'importable': False, 'slug': None, 'username': 'annefou', 'username_and_slug': None, 'genome_build': None, 'state': 'new', 'state_ids': {'new': [], 'upload': [], 'queued': [], 'running': [], 'ok': [], 'empty': [], 'error': [], 'paused': [], 'setting_metadata': [], 'failed_metadata': [], 'deferred': [], 'discarded': []}, 'state_details': {'new': 0, 'upload': 0, 'queued': 0, 'running': 0, 'ok': 0, 'empty': 0, 'error': 0, 'paused': 0, 'setting_metadata': 0, 'failed_metadata': 0, 'deferred': 0, 'discarded': 0}}\n"
     ]
    }
   ],
   "source": [
    "new_hist = gi.histories.create_history(name='ScienceLive')\n",
    "print(new_hist)"
   ]
  },
  {
   "cell_type": "markdown",
   "id": "ac6ec84a-4296-4266-8ce0-db355428e0fd",
   "metadata": {},
   "source": [
    "## Import workflow to Galaxy Europe"
   ]
  },
  {
   "cell_type": "code",
   "execution_count": 34,
   "id": "1ec20414-504c-46a5-831a-34e116afe878",
   "metadata": {},
   "outputs": [],
   "source": [
    "wf = gi.workflows.import_workflow_from_local_path(workflow_parameters[\"workflow\"])"
   ]
  },
  {
   "cell_type": "code",
   "execution_count": 53,
   "id": "54f6f257-de93-4aa6-9bf1-f3ba2c928f81",
   "metadata": {},
   "outputs": [
    {
     "name": "stdout",
     "output_type": "stream",
     "text": [
      "0012799af6e2a4f1\n"
     ]
    }
   ],
   "source": [
    "wf_id = wf[\"id\"]\n",
    "print(wf_id)"
   ]
  },
  {
   "cell_type": "markdown",
   "id": "0f478dc9-9b1a-411d-8174-0f6bde22a841",
   "metadata": {},
   "source": [
    "## Upload data in the history"
   ]
  },
  {
   "cell_type": "code",
   "execution_count": 42,
   "id": "83590e75-f99c-455f-9fad-a861281e43db",
   "metadata": {},
   "outputs": [
    {
     "data": {
      "text/plain": [
       "'7616c018d9d3c3f2'"
      ]
     },
     "execution_count": 42,
     "metadata": {},
     "output_type": "execute_result"
    }
   ],
   "source": [
    "hist_id = new_hist[\"id\"]\n",
    "hist_id"
   ]
  },
  {
   "cell_type": "code",
   "execution_count": 44,
   "id": "3544a2c9-7edb-45d1-8875-9fa596524be2",
   "metadata": {
    "scrolled": true
   },
   "outputs": [],
   "source": [
    "ret_uploads = upload_to_history(workflow_parameters[\"inputs\"], gi, hist_id)"
   ]
  },
  {
   "cell_type": "markdown",
   "id": "6152009f-4854-437c-ad84-a13386949971",
   "metadata": {},
   "source": [
    "# Get outputs"
   ]
  },
  {
   "cell_type": "code",
   "execution_count": 50,
   "id": "1891863f-e0b2-449f-99c7-fe7b5f1747b2",
   "metadata": {},
   "outputs": [
    {
     "name": "stdout",
     "output_type": "stream",
     "text": [
      "{'0': {'id': '4838ba20a6d86765dc4198cfd98f3904', 'src': 'hda'}}\n"
     ]
    }
   ],
   "source": [
    "step = 0\n",
    "inputs = {}\n",
    "for ret in ret_uploads:\n",
    "    hda = ret['outputs'][0]\n",
    "#    inputs = {idx: {'id': hda['id'], 'src': 'hda'}}\n",
    "    inputs.update({str(step): {'id': hda['id'], 'src': 'hda'}})\n",
    "print(inputs) # will not work when several inputs!"
   ]
  },
  {
   "cell_type": "code",
   "execution_count": 52,
   "id": "223ef858-fd55-4bdf-ace2-659ef4230414",
   "metadata": {},
   "outputs": [
    {
     "name": "stdout",
     "output_type": "stream",
     "text": [
      "{'1': {'title': 'My ScienceLive Stripes', 'variable': 'tg_anomalies_freiburg', 'adv|colormap': 'RdBu_r'}}\n"
     ]
    }
   ],
   "source": [
    "step = 1\n",
    "params = {\n",
    "    str(step): workflow_parameters[\"params\"][0]\n",
    "}\n",
    "\n",
    "print(params)"
   ]
  },
  {
   "cell_type": "code",
   "execution_count": 54,
   "id": "a5ade3c1-6a29-4522-9209-38a374808ff9",
   "metadata": {},
   "outputs": [],
   "source": [
    "ret = gi.workflows.invoke_workflow(wf_id, inputs=inputs, params=params, history_id=hist_id)"
   ]
  },
  {
   "cell_type": "code",
   "execution_count": 56,
   "id": "8e2b2941-3331-4070-a4e7-36787354ac04",
   "metadata": {
    "scrolled": true
   },
   "outputs": [
    {
     "name": "stdout",
     "output_type": "stream",
     "text": [
      "⏳ Waiting for workflow to complete...\n",
      "⏳ Waiting for workflow to complete...\n",
      "⏳ Waiting for workflow to complete...\n",
      "⏳ Waiting for workflow to complete...\n",
      "⏳ Waiting for workflow to complete...\n",
      "⏳ Waiting for workflow to complete...\n",
      "⏳ Waiting for workflow to complete...\n",
      "⏳ Waiting for workflow to complete...\n",
      "⏳ Waiting for workflow to complete...\n",
      "✅ Workflow has completed.\n"
     ]
    }
   ],
   "source": [
    "while True:\n",
    "    history = gi.histories.show_history(hist_id, contents=True)\n",
    "    states = [dataset['state'] for dataset in history]\n",
    "    if all(state in ['ok', 'error'] for state in states):\n",
    "        print(\"✅ Workflow has completed.\")\n",
    "        break\n",
    "    else:\n",
    "        print(\"⏳ Waiting for workflow to complete...\")\n",
    "        time.sleep(10)"
   ]
  },
  {
   "cell_type": "markdown",
   "id": "fd09343a-5941-4c3c-b860-ed4b7d374ba1",
   "metadata": {},
   "source": [
    "## Get RO-Crate"
   ]
  },
  {
   "cell_type": "code",
   "execution_count": 57,
   "id": "84290d31-c1da-4d28-9c4a-ed68f4afe948",
   "metadata": {},
   "outputs": [],
   "source": [
    "response = gi.invocations.get_invocation_archive(\n",
    "        invocation_id = ret[\"id\"],\n",
    "        model_store_format= \"rocrate.zip\")"
   ]
  },
  {
   "cell_type": "code",
   "execution_count": 58,
   "id": "9d5d5b7f-20ac-4a5d-b6e8-bdd463b73edd",
   "metadata": {},
   "outputs": [],
   "source": [
    "file = \"climate.rocrate.zip\"\n",
    "\n",
    "with open(file, \"bw\") as archive:\n",
    "    for chunk in response.iter_content(chunk_size=8192):\n",
    "        archive.write(chunk)\n",
    "        # Verify file is not empty"
   ]
  },
  {
   "cell_type": "markdown",
   "id": "c60261e3-de7a-476d-a3c7-4243e8136ac4",
   "metadata": {},
   "source": [
    "# Delete history"
   ]
  },
  {
   "cell_type": "code",
   "execution_count": 59,
   "id": "ec781b54-1ce6-40d3-b098-e0a34bee0671",
   "metadata": {
    "scrolled": true
   },
   "outputs": [
    {
     "data": {
      "text/plain": [
       "{'model_class': 'History',\n",
       " 'id': '7616c018d9d3c3f2',\n",
       " 'name': 'ScienceLive',\n",
       " 'deleted': True,\n",
       " 'purged': True,\n",
       " 'archived': False,\n",
       " 'url': '/api/histories/7616c018d9d3c3f2',\n",
       " 'published': False,\n",
       " 'count': 2,\n",
       " 'annotation': None,\n",
       " 'tags': [],\n",
       " 'update_time': '2025-05-25T20:11:24.351574',\n",
       " 'preferred_object_store_id': None,\n",
       " 'contents_url': '/api/histories/7616c018d9d3c3f2/contents',\n",
       " 'size': 58721,\n",
       " 'user_id': '8a9aff0c11cb3a70',\n",
       " 'create_time': '2025-05-25T19:50:11.515047',\n",
       " 'importable': False,\n",
       " 'slug': None,\n",
       " 'username': 'annefou',\n",
       " 'username_and_slug': None,\n",
       " 'genome_build': None,\n",
       " 'state': 'ok',\n",
       " 'state_ids': {'new': [],\n",
       "  'upload': [],\n",
       "  'queued': [],\n",
       "  'running': [],\n",
       "  'ok': ['4838ba20a6d86765dc4198cfd98f3904',\n",
       "   '4838ba20a6d86765cec420ab4c7f27e4'],\n",
       "  'empty': [],\n",
       "  'error': [],\n",
       "  'paused': [],\n",
       "  'setting_metadata': [],\n",
       "  'failed_metadata': [],\n",
       "  'deferred': [],\n",
       "  'discarded': []},\n",
       " 'state_details': {'new': 0,\n",
       "  'upload': 0,\n",
       "  'queued': 0,\n",
       "  'running': 0,\n",
       "  'ok': 2,\n",
       "  'empty': 0,\n",
       "  'error': 0,\n",
       "  'paused': 0,\n",
       "  'setting_metadata': 0,\n",
       "  'failed_metadata': 0,\n",
       "  'deferred': 0,\n",
       "  'discarded': 0}}"
      ]
     },
     "execution_count": 59,
     "metadata": {},
     "output_type": "execute_result"
    }
   ],
   "source": [
    "gi.histories.delete_history(hist_id, purge=True)"
   ]
  },
  {
   "cell_type": "code",
   "execution_count": null,
   "id": "2a11b371-bd60-4fa1-8f01-47ca3443acb2",
   "metadata": {},
   "outputs": [],
   "source": []
  },
  {
   "cell_type": "code",
   "execution_count": null,
   "id": "dcdea275-d58d-4ce7-b532-c6ff85153a92",
   "metadata": {},
   "outputs": [],
   "source": []
  },
  {
   "cell_type": "code",
   "execution_count": null,
   "id": "7df70064-4b87-422e-a4f3-c16f2899b6f7",
   "metadata": {},
   "outputs": [],
   "source": []
  }
 ],
 "metadata": {
  "jupytext": {
   "formats": "ipynb,py:percent"
  },
  "kernelspec": {
   "display_name": "Python 3 (ipykernel)",
   "language": "python",
   "name": "python3"
  },
  "language_info": {
   "codemirror_mode": {
    "name": "ipython",
    "version": 3
   },
   "file_extension": ".py",
   "mimetype": "text/x-python",
   "name": "python",
   "nbconvert_exporter": "python",
   "pygments_lexer": "ipython3",
   "version": "3.12.10"
  }
 },
 "nbformat": 4,
 "nbformat_minor": 5
}
